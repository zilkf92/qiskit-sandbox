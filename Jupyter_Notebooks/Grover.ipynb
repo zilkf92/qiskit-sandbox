{
 "cells": [
  {
   "cell_type": "code",
   "execution_count": 18,
   "id": "f7adec28",
   "metadata": {},
   "outputs": [],
   "source": [
    "#initialization\n",
    "import matplotlib.pyplot as plt\n",
    "import numpy as np\n",
    "import math\n",
    "\n",
    "# importing Qiskit\n",
    "from qiskit import IBMQ, Aer, transpile, execute\n",
    "from qiskit import QuantumCircuit, ClassicalRegister, QuantumRegister\n",
    "from qiskit.providers.ibmq import least_busy\n",
    "\n",
    "# import basic plot tools\n",
    "from qiskit.visualization import plot_histogram"
   ]
  },
  {
   "cell_type": "code",
   "execution_count": 19,
   "id": "8c1563d7",
   "metadata": {},
   "outputs": [],
   "source": [
    "n = 2\n",
    "grover_circuit = QuantumCircuit(n)"
   ]
  },
  {
   "cell_type": "code",
   "execution_count": 20,
   "id": "7fec3c9b",
   "metadata": {},
   "outputs": [],
   "source": [
    "def initialize(qc, qubits):\n",
    "    \"\"\"Apply a H-gate to 'qubits' in qc\"\"\"\n",
    "    for q in qubits:\n",
    "        qc.h(q)\n",
    "    return qc"
   ]
  },
  {
   "cell_type": "code",
   "execution_count": 21,
   "id": "70955905",
   "metadata": {},
   "outputs": [
    {
     "data": {
      "text/html": [
       "<pre style=\"word-wrap: normal;white-space: pre;background: #fff0;line-height: 1.1;font-family: &quot;Courier New&quot;,Courier,monospace\">     ┌───┐\n",
       "q_0: ┤ H ├\n",
       "     ├───┤\n",
       "q_1: ┤ H ├\n",
       "     └───┘</pre>"
      ],
      "text/plain": [
       "     ┌───┐\n",
       "q_0: ┤ H ├\n",
       "     ├───┤\n",
       "q_1: ┤ H ├\n",
       "     └───┘"
      ]
     },
     "execution_count": 21,
     "metadata": {},
     "output_type": "execute_result"
    }
   ],
   "source": [
    "grover_circuit = initialize(grover_circuit, [0,1])\n",
    "grover_circuit.draw()"
   ]
  },
  {
   "cell_type": "code",
   "execution_count": 22,
   "id": "c283adef",
   "metadata": {},
   "outputs": [
    {
     "data": {
      "text/html": [
       "<pre style=\"word-wrap: normal;white-space: pre;background: #fff0;line-height: 1.1;font-family: &quot;Courier New&quot;,Courier,monospace\">     ┌───┐┌────────┐┌───┐   ┌───┐┌───┐\n",
       "q_0: ┤ H ├┤ Rz(-π) ├┤ H ├─■─┤ Z ├┤ H ├\n",
       "     ├───┤├────────┤├───┤ │ ├───┤├───┤\n",
       "q_1: ┤ H ├┤ Rz(-π) ├┤ H ├─■─┤ Z ├┤ H ├\n",
       "     └───┘└────────┘└───┘   └───┘└───┘</pre>"
      ],
      "text/plain": [
       "     ┌───┐┌────────┐┌───┐   ┌───┐┌───┐\n",
       "q_0: ┤ H ├┤ Rz(-π) ├┤ H ├─■─┤ Z ├┤ H ├\n",
       "     ├───┤├────────┤├───┤ │ ├───┤├───┤\n",
       "q_1: ┤ H ├┤ Rz(-π) ├┤ H ├─■─┤ Z ├┤ H ├\n",
       "     └───┘└────────┘└───┘   └───┘└───┘"
      ]
     },
     "execution_count": 22,
     "metadata": {},
     "output_type": "execute_result"
    }
   ],
   "source": [
    "grover_circuit.rz(-np.pi, 0)\n",
    "grover_circuit.rz(-np.pi, 1)\n",
    "grover_circuit.h([0,1])\n",
    "grover_circuit.cz(0,1)\n",
    "grover_circuit.z([0,1])\n",
    "grover_circuit.h([0,1])\n",
    "grover_circuit.draw()"
   ]
  },
  {
   "cell_type": "code",
   "execution_count": null,
   "id": "550ea1e5",
   "metadata": {},
   "outputs": [],
   "source": []
  }
 ],
 "metadata": {
  "kernelspec": {
   "display_name": "qiskitvenv",
   "language": "python",
   "name": "qiskitvenv"
  },
  "language_info": {
   "codemirror_mode": {
    "name": "ipython",
    "version": 3
   },
   "file_extension": ".py",
   "mimetype": "text/x-python",
   "name": "python",
   "nbconvert_exporter": "python",
   "pygments_lexer": "ipython3",
   "version": "3.10.3"
  },
  "vscode": {
   "interpreter": {
    "hash": "7cca8d9ecb282afa287b337e0f5b7c7fd997ce9f226452a20eb2dcc45aad15e2"
   }
  }
 },
 "nbformat": 4,
 "nbformat_minor": 5
}
